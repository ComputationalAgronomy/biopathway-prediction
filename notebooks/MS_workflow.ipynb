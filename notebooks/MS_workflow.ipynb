{
 "cells": [
  {
   "cell_type": "markdown",
   "metadata": {
    "vscode": {
     "languageId": "plaintext"
    }
   },
   "source": [
    "## Manuscript Workflow\n",
    "\n",
    "### Install this package\n"
   ]
  },
  {
   "cell_type": "code",
   "execution_count": null,
   "metadata": {},
   "outputs": [],
   "source": [
    "!pip install ../"
   ]
  },
  {
   "cell_type": "markdown",
   "metadata": {},
   "source": [
    "### Download `prodigal` and `diamond`\n",
    "\n",
    "Put the following two programs into `bin` and specify their paths in `config.toml`\n",
    "\n",
    "**prodigal:** https://github.com/hyattpd/Prodigal  \n",
    "**diamond:** https://github.com/bbuchfink/diamond\n"
   ]
  },
  {
   "cell_type": "markdown",
   "metadata": {},
   "source": [
    "### Download the genomes used in this study\n"
   ]
  },
  {
   "cell_type": "code",
   "execution_count": null,
   "metadata": {},
   "outputs": [],
   "source": [
    "import os\n",
    "import tarfile\n",
    "import requests\n",
    "from tqdm.auto import tqdm\n",
    "\n",
    "core_files = [\n",
    "    \"core_Acidobacteria.tar.gz\",\n",
    "    \"core_Actinobacteria.tar.gz\",\n",
    "    \"core_Bacteroidetes.tar.gz\",\n",
    "    \"core_Firmicutes.tar.gz\",\n",
    "    \"core_Proteobacteria.tar.gz\",\n",
    "]\n",
    "\n",
    "positive_files = [\n",
    "    \"positive_validation.tar.gz\",\n",
    "]\n",
    "\n",
    "negative_files = [\n",
    "    \"negative_validation.tar.gz\",\n",
    "]\n",
    "\n",
    "base_url = \"https://zenodo.org/records/15860571/files/\"\n",
    "data_dir = \"../data\"\n",
    "positive_validation_dir = \"../positive_data\"\n",
    "negative_validation_dir = \"../negative_data\"\n",
    "\n",
    "\n",
    "for files, download_dir in zip(\n",
    "    (core_files, positive_files, negative_files),\n",
    "    (data_dir, positive_validation_dir, negative_validation_dir),\n",
    "    strict=True,\n",
    "):\n",
    "    os.makedirs(download_dir, exist_ok=True)\n",
    "    for fname in files:\n",
    "        url = f\"{base_url}{fname}?download=1\"\n",
    "        local_path = os.path.join(download_dir, fname)\n",
    "\n",
    "        print(f\"Downloading {fname}...\")\n",
    "        with requests.get(url, stream=True) as r:\n",
    "            r.raise_for_status()\n",
    "            total = int(r.headers.get(\"content-length\", 0))\n",
    "            with (\n",
    "                open(local_path, \"wb\") as f,\n",
    "                tqdm(\n",
    "                    desc=fname,\n",
    "                    total=total,\n",
    "                    unit=\"B\",\n",
    "                    unit_scale=True,\n",
    "                    unit_divisor=1024,\n",
    "                ) as bar,\n",
    "            ):\n",
    "                for chunk in r.iter_content(chunk_size=8192):\n",
    "                    if chunk:\n",
    "                        f.write(chunk)\n",
    "                        bar.update(len(chunk))\n",
    "\n",
    "        print(f\"Extracting {fname}...\")\n",
    "        with tarfile.open(local_path, \"r:gz\") as tar:\n",
    "            tar.extractall(path=download_dir)\n",
    "\n",
    "        print(f\"Cleaning up {fname}...\")\n",
    "        os.remove(local_path)\n"
   ]
  },
  {
   "cell_type": "markdown",
   "metadata": {},
   "source": [
    "### Rename genome files to sequence names\n"
   ]
  },
  {
   "cell_type": "code",
   "execution_count": null,
   "metadata": {},
   "outputs": [],
   "source": [
    "# python ../bcpip/utils/rename_sequence_label.py [PATH_TO_DOWNLOADED_GENOMES] fna\n",
    "!python ../bcpip/utils/rename_sequence_label.py ../data fna"
   ]
  },
  {
   "cell_type": "markdown",
   "metadata": {},
   "source": [
    "### Run prediction pipeline\n",
    "\n",
    "The parameters used in this study are specified in `config.toml`.\n",
    "\n",
    "In the sequence alignment step, results were filtered to retain only those with at least 50% query coverage (`-f coverage=50`). For each query sequence, the best hit, if available, was selected based on the highest bit-score (`-c score`).\n",
    "In the prediction score calculation step, both the binary (`-m binary`) and the logistic (`-m prob`) model were executed.\n",
    "\n",
    "_Note: If a parameter is not explicitly specified via command-line arguments, the corresponding default value from `config.toml` will be used. Only parameters provided by the user will override the defaults._\n"
   ]
  },
  {
   "cell_type": "markdown",
   "metadata": {},
   "source": [
    "#### Binary Model\n"
   ]
  },
  {
   "cell_type": "code",
   "execution_count": null,
   "metadata": {},
   "outputs": [],
   "source": [
    "# Binary Model\n",
    "# Note: This step can take several hours to complete, depending on dataset size and system resources.\n",
    "!bcpip -i ../data/ -o ../output_binary -m binary -f coverage=50 -c score"
   ]
  },
  {
   "cell_type": "code",
   "execution_count": null,
   "metadata": {},
   "outputs": [],
   "source": [
    "# Equivalent to\n",
    "# Gene prediction (prodigal) and BLAST may take several hours depending on dataset size and system resources.\n",
    "# !bcpip prodigal -i ../data -o ../output_binary\n",
    "# !bcpip blastp -i ../output_binary/prodigal -o ../output_binary\n",
    "# !bcpip parse_xml -i ../output_binary/blast -o ../output_binary\n",
    "# !bcpip best_blast -i ../output/parse_blast -o ../output_binary -f coverage=50 -c score\n",
    "# !bcpip match_enzyme -i ../output_binary/best_blast -o ../output_binary -m binary\n",
    "# !bcpip result_summary -i ../output_binary/match_enzyme_result -o ../output_binary"
   ]
  },
  {
   "cell_type": "markdown",
   "metadata": {},
   "source": [
    "#### Logistic Model\n"
   ]
  },
  {
   "cell_type": "code",
   "execution_count": null,
   "metadata": {},
   "outputs": [],
   "source": [
    "# Logistic Model\n",
    "# Note: This step can take several hours to complete, depending on input size and system resources.\n",
    "!bcpip -i ../data/ -o ../output_logistic -m prob -f coverage=50 -c score"
   ]
  },
  {
   "cell_type": "markdown",
   "metadata": {},
   "source": [
    "### Results\n",
    "\n",
    "A summary of the prediction results is saved to `../output/result_summary`.  \n",
    "The file `prediction_output.csv` contains the prediction scores for IAA production for each genome.\n",
    "Summary statistics for all genomes are provided in `compound_output.csv` and `enzyme_output.csv`.  \n",
    "Individual predictions for each genome are saved in `../output/match_enzyme_result`.\n"
   ]
  }
 ],
 "metadata": {
  "kernelspec": {
   "display_name": "biopathway",
   "language": "python",
   "name": "python3"
  },
  "language_info": {
   "codemirror_mode": {
    "name": "ipython",
    "version": 3
   },
   "file_extension": ".py",
   "mimetype": "text/x-python",
   "name": "python",
   "nbconvert_exporter": "python",
   "pygments_lexer": "ipython3",
   "version": "3.11.13"
  }
 },
 "nbformat": 4,
 "nbformat_minor": 2
}
