{
 "cells": [
  {
   "cell_type": "markdown",
   "metadata": {},
   "source": [
    "### Rename Downloaded Files\n",
    "\n",
    "You may see file names like `GCF_000014005.1_ASM1400v1_genomic` if you download the genomes from NCBI.  \n",
    "You can use this tool to change the file name to its sequence title. \n",
    "```\n",
    "python ../bcpip/utils/rename_sequence_label.py INPUT_DIR FILE_EXTENSION_IN_INPUT_DIR \n",
    "  [RENAME_DIR] [FILE_EXTENSION_IN_RENAME_DIR]\n",
    "```\n",
    "For example:"
   ]
  },
  {
   "cell_type": "code",
   "execution_count": 5,
   "metadata": {},
   "outputs": [
    {
     "name": "stdout",
     "output_type": "stream",
     "text": [
      "Find 1 fna files.\n",
      "Save mapping file to ./filename_mapping.csv\n",
      "Rename GCF_000014005.1_ASM1400v1_genomic.fna to Candidatus_Koribacter_versatilis_Ellin345__complete_sequence.fna\n"
     ]
    }
   ],
   "source": [
    "!python ../bcpip/utils/rename_sequence_label.py ../example_data fna"
   ]
  },
  {
   "cell_type": "markdown",
   "metadata": {},
   "source": [
    "A mapping file will be save to the current directory to see the previous and current filenames.\n",
    "It can also be used to rename other files by using:\n",
    "```\n",
    "python rename_via_mapping.py RENAME_DIR FILE_EXTENSION_IN_RENAME_DIR MAPPING_FILE\n",
    "```\n",
    "For example:"
   ]
  },
  {
   "cell_type": "code",
   "execution_count": 6,
   "metadata": {},
   "outputs": [
    {
     "name": "stdout",
     "output_type": "stream",
     "text": [
      "Find 1 txt files.\n",
      "Rename GCF_000014005.1_ASM1400v1_genomic.txt to Candidatus_Koribacter_versatilis_Ellin345__complete_sequence.txt\n"
     ]
    }
   ],
   "source": [
    "!python ../bcpip/utils/rename_via_mapping.py ../example_data txt ./filename_mapping.csv"
   ]
  }
 ],
 "metadata": {
  "kernelspec": {
   "display_name": "bcpip",
   "language": "python",
   "name": "python3"
  },
  "language_info": {
   "codemirror_mode": {
    "name": "ipython",
    "version": 3
   },
   "file_extension": ".py",
   "mimetype": "text/x-python",
   "name": "python",
   "nbconvert_exporter": "python",
   "pygments_lexer": "ipython3",
   "version": "3.11.9"
  },
  "orig_nbformat": 4
 },
 "nbformat": 4,
 "nbformat_minor": 2
}
