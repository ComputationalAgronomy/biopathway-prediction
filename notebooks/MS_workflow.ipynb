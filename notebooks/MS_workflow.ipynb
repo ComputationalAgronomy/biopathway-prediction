{
 "cells": [
  {
   "cell_type": "markdown",
   "metadata": {
    "vscode": {
     "languageId": "plaintext"
    }
   },
   "source": [
    "## Manuscript Workflow\n",
    "\n",
    "### Install this package\n"
   ]
  },
  {
   "cell_type": "code",
   "execution_count": null,
   "metadata": {},
   "outputs": [],
   "source": [
    "!pip install ../"
   ]
  },
  {
   "cell_type": "markdown",
   "metadata": {},
   "source": [
    "### Download `prodigal` and `diamond`\n",
    "\n",
    "Put the following two programs into `bin` and specify their paths in `config.toml`\n",
    "\n",
    "**prodigal:** https://github.com/hyattpd/Prodigal  \n",
    "**diamond:** https://github.com/bbuchfink/diamond\n"
   ]
  },
  {
   "cell_type": "markdown",
   "metadata": {},
   "source": [
    "### Download the genomes used in this study\n",
    "\n",
    "TODO: Upload genomes to Zenodo and download them to `../data/`\n"
   ]
  },
  {
   "cell_type": "code",
   "execution_count": null,
   "metadata": {},
   "outputs": [],
   "source": []
  },
  {
   "cell_type": "markdown",
   "metadata": {},
   "source": [
    "### Optional: Rename genome files to sequence names\n"
   ]
  },
  {
   "cell_type": "code",
   "execution_count": null,
   "metadata": {},
   "outputs": [],
   "source": [
    "# python ../biopathpred/utils/rename_sequence_label.py [PATH_TO_DOWNLOADED_GENOMES] fna\n",
    "!python ../biopathpred/utils/rename_sequence_label.py ../data fna"
   ]
  },
  {
   "cell_type": "markdown",
   "metadata": {},
   "source": [
    "### Run prediction pipeline\n"
   ]
  },
  {
   "cell_type": "code",
   "execution_count": null,
   "metadata": {},
   "outputs": [],
   "source": [
    "!biopathpred -i ../data/ -o ../output"
   ]
  },
  {
   "cell_type": "markdown",
   "metadata": {},
   "source": [
    "### Results\n",
    "\n",
    "A summary of the prediction results is saved to `../output/result_summary`.  \n",
    "The file `prediction_output`.csv contains the prediction scores for IAA production for each genome.  \n",
    "Individual predictions for each genome are saved in `../output/match_enzyme_result`.\n"
   ]
  }
 ],
 "metadata": {
  "kernelspec": {
   "display_name": "biopathway",
   "language": "python",
   "name": "python3"
  },
  "language_info": {
   "codemirror_mode": {
    "name": "ipython",
    "version": 3
   },
   "file_extension": ".py",
   "mimetype": "text/x-python",
   "name": "python",
   "nbconvert_exporter": "python",
   "pygments_lexer": "ipython3",
   "version": "3.11.13"
  }
 },
 "nbformat": 4,
 "nbformat_minor": 2
}
