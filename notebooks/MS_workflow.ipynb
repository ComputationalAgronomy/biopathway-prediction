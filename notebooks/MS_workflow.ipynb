{
 "cells": [
  {
   "cell_type": "markdown",
   "metadata": {
    "vscode": {
     "languageId": "plaintext"
    }
   },
   "source": [
    "## Manuscript Workflow\n",
    "\n",
    "### Install this package\n"
   ]
  },
  {
   "cell_type": "code",
   "execution_count": null,
   "metadata": {},
   "outputs": [],
   "source": [
    "!pip install ../"
   ]
  },
  {
   "cell_type": "markdown",
   "metadata": {},
   "source": [
    "### Download `prodigal` and `diamond`\n",
    "\n",
    "Put the following two programs into `bin` and specify their paths in `config.toml`\n",
    "\n",
    "**prodigal:** https://github.com/hyattpd/Prodigal  \n",
    "**diamond:** https://github.com/bbuchfink/diamond\n"
   ]
  },
  {
   "cell_type": "markdown",
   "metadata": {},
   "source": [
    "### Download the genomes used in this study\n",
    "\n",
    "TODO: Upload genomes to Zenodo and download them to `../data/`\n"
   ]
  },
  {
   "cell_type": "code",
   "execution_count": null,
   "metadata": {},
   "outputs": [],
   "source": []
  },
  {
   "cell_type": "markdown",
   "metadata": {},
   "source": [
    "### Optional: Rename genome files to sequence names\n"
   ]
  },
  {
   "cell_type": "code",
   "execution_count": null,
   "metadata": {},
   "outputs": [],
   "source": [
    "# python ../biopathpred/utils/rename_sequence_label.py [PATH_TO_DOWNLOADED_GENOMES] fna\n",
    "!python ../biopathpred/utils/rename_sequence_label.py ../data fna"
   ]
  },
  {
   "cell_type": "markdown",
   "metadata": {},
   "source": [
    "### Run prediction pipeline\n",
    "\n",
    "The parameters used in this study are specified in `config.toml`.\n",
    "\n",
    "In the sequence alignment step, results were filtered to retain only those with at least 50% query coverage (`-f coverage=50`). For each query sequence, the best hit, if available, was selected based on the highest bit-score (`-c score`).\n",
    "In the prediction score calculation step, both the binary (`-m binary`) and the logistic (`-m prob`) model were executed.\n",
    "\n",
    "_Note: If a parameter is not explicitly specified via command-line arguments, the corresponding default value from `config.toml` will be used. Only parameters provided by the user will override the defaults._\n"
   ]
  },
  {
   "cell_type": "markdown",
   "metadata": {},
   "source": [
    "#### Binary Model\n"
   ]
  },
  {
   "cell_type": "code",
   "execution_count": null,
   "metadata": {},
   "outputs": [],
   "source": [
    "# Binary Model\n",
    "# Note: This step can take several hours to complete, depending on dataset size and system resources.\n",
    "!biopathpred -i ../data/ -o ../output_binary -m binary -f coverage=50 -c score"
   ]
  },
  {
   "cell_type": "code",
   "execution_count": null,
   "metadata": {},
   "outputs": [],
   "source": [
    "# Equivalent to\n",
    "# Gene prediction (prodigal) and BLAST may take several hours depending on dataset size and system resources.\n",
    "# !biopathpred prodigal -i ../data -o ../output_binary\n",
    "# !biopathpred blastp -i ../output_binary/prodigal -o ../output_binary\n",
    "# !biopathpred parse_xml -i ../output_binary/blast -o ../output_binary\n",
    "# !biopathpred best_blast -i ../output/parse_blast -o ../output_binary -f coverage=50 -c score\n",
    "# !biopathpred match_enzyme -i ../output_binary/best_blast -o ../output_binary -m binary\n",
    "# !biopathpred result_summary -i ../output_binary/match_enzyme_result -o ../output_binary"
   ]
  },
  {
   "cell_type": "markdown",
   "metadata": {},
   "source": [
    "#### Logistic Model\n"
   ]
  },
  {
   "cell_type": "code",
   "execution_count": null,
   "metadata": {},
   "outputs": [],
   "source": [
    "# Logistic Model\n",
    "# Note: This step can take several hours to complete, depending on input size and system resources.\n",
    "!biopathpred -i ../data/ -o ../output -m prob -f coverage=50 -c score"
   ]
  },
  {
   "cell_type": "code",
   "execution_count": null,
   "metadata": {},
   "outputs": [],
   "source": []
  },
  {
   "cell_type": "markdown",
   "metadata": {},
   "source": [
    "### Results\n",
    "\n",
    "A summary of the prediction results is saved to `../output/result_summary`.  \n",
    "The file `prediction_output.csv` contains the prediction scores for IAA production for each genome.\n",
    "Summary statistics for all genomes are provided in `compound_output.csv` and `enzyme_output.csv`.  \n",
    "Individual predictions for each genome are saved in `../output/match_enzyme_result`.\n"
   ]
  }
 ],
 "metadata": {
  "kernelspec": {
   "display_name": "biopathway",
   "language": "python",
   "name": "python3"
  },
  "language_info": {
   "codemirror_mode": {
    "name": "ipython",
    "version": 3
   },
   "file_extension": ".py",
   "mimetype": "text/x-python",
   "name": "python",
   "nbconvert_exporter": "python",
   "pygments_lexer": "ipython3",
   "version": "3.11.13"
  }
 },
 "nbformat": 4,
 "nbformat_minor": 2
}
