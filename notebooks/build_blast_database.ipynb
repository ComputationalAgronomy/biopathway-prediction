{
 "cells": [
  {
   "cell_type": "markdown",
   "metadata": {},
   "source": [
    "## Build Database for Pathway Prediction\n",
    "\n",
    "To create a database with enzymes of interest, please follow the steps below:\n",
    "\n",
    "1. Collect the sequences of enzymes (fasta format) and save them to a directory with the filename pattern `ID_ENZMYE-NAME.fasta` (each file for each enzyme, e.g., 1_IAM1.fasta).\n",
    "\n",
    "2. Run `bcpip build_db -i {INPUT_DIR} -o {OUTPUT_DB}` as below:"
   ]
  },
  {
   "cell_type": "code",
   "execution_count": 1,
   "metadata": {},
   "outputs": [],
   "source": [
    "input_dir = \"../example_data\"\n",
    "output_db = \"../example_output/pathway_db\""
   ]
  },
  {
   "cell_type": "code",
   "execution_count": 2,
   "metadata": {},
   "outputs": [
    {
     "name": "stdout",
     "output_type": "stream",
     "text": [
      "Collect fasta files with pattern: [int]_[str].fasta\n",
      "1_IAM1.fasta: 1 entries\n",
      "2_TAM1.fasta: 24 entries\n",
      "3_TAM2.fasta: 29 entries\n",
      "Collect 54 entries\n"
     ]
    }
   ],
   "source": [
    "!bcpip build_db -i {input_dir} -o {output_db}"
   ]
  },
  {
   "cell_type": "markdown",
   "metadata": {},
   "source": [
    "3. Make sure you have downloaded `diamond` and put it in the `bin` directory of this package.\n",
    "\n",
    "4. Run `diamond makedb --in {OUTPUT_DB} -d {DB_NAME}` (e.g., diamond makedb --in pathway_db -d my_pathway).\n",
    "\n",
    "5. Change the `database` in `config.toml` to the database you built.\n",
    "\n",
    "6. Build a pathway graph similar to the `pathway_dict` and `enzyme_dict` in `bcpip/modules/pathway` (Currently require changing source code, futher instructions will be provided later)."
   ]
  }
 ],
 "metadata": {
  "kernelspec": {
   "display_name": "bcpip",
   "language": "python",
   "name": "python3"
  },
  "language_info": {
   "codemirror_mode": {
    "name": "ipython",
    "version": 3
   },
   "file_extension": ".py",
   "mimetype": "text/x-python",
   "name": "python",
   "nbconvert_exporter": "python",
   "pygments_lexer": "ipython3",
   "version": "3.11.9"
  },
  "orig_nbformat": 4
 },
 "nbformat": 4,
 "nbformat_minor": 2
}
